{
 "cells": [
  {
   "cell_type": "markdown",
   "metadata": {},
   "source": [
    "# Imports"
   ]
  },
  {
   "cell_type": "code",
   "execution_count": 173,
   "metadata": {},
   "outputs": [],
   "source": [
    "library(car)\n",
    "library(reshape2)\n",
    "library(ggplot2)"
   ]
  },
  {
   "cell_type": "code",
   "execution_count": 174,
   "metadata": {},
   "outputs": [],
   "source": [
    "#change size of graphs\n",
    "options(repr.plot.width=4, repr.plot.height=4)"
   ]
  },
  {
   "cell_type": "code",
   "execution_count": 175,
   "metadata": {},
   "outputs": [],
   "source": [
    "crime_df = read.csv('crime_v2.csv')"
   ]
  },
  {
   "cell_type": "markdown",
   "metadata": {},
   "source": [
    "# Quick Data Check"
   ]
  },
  {
   "cell_type": "code",
   "execution_count": 176,
   "metadata": {},
   "outputs": [
    {
     "name": "stdout",
     "output_type": "stream",
     "text": [
      "'data.frame':\t97 obs. of  25 variables:\n",
      " $ county  : int  1 3 5 7 9 11 13 15 17 19 ...\n",
      " $ year    : int  87 87 87 87 87 87 87 87 87 87 ...\n",
      " $ crmrte  : num  0.0356 0.0153 0.013 0.0268 0.0106 ...\n",
      " $ prbarr  : num  0.298 0.132 0.444 0.365 0.518 ...\n",
      " $ prbconv : Factor w/ 92 levels \"\",\"`\",\"0.068376102\",..: 63 89 13 62 52 3 59 78 42 86 ...\n",
      " $ prbpris : num  0.436 0.45 0.6 0.435 0.443 ...\n",
      " $ avgsen  : num  6.71 6.35 6.76 7.14 8.22 ...\n",
      " $ polpc   : num  0.001828 0.000746 0.001234 0.00153 0.00086 ...\n",
      " $ density : num  2.423 1.046 0.413 0.492 0.547 ...\n",
      " $ taxpc   : num  31 26.9 34.8 42.9 28.1 ...\n",
      " $ west    : int  0 0 1 0 1 1 0 0 0 0 ...\n",
      " $ central : int  1 1 0 1 0 0 0 0 0 0 ...\n",
      " $ urban   : int  0 0 0 0 0 0 0 0 0 0 ...\n",
      " $ pctmin80: num  20.22 7.92 3.16 47.92 1.8 ...\n",
      " $ wcon    : num  281 255 227 375 292 ...\n",
      " $ wtuc    : num  409 376 372 398 377 ...\n",
      " $ wtrd    : num  221 196 229 191 207 ...\n",
      " $ wfir    : num  453 259 306 281 289 ...\n",
      " $ wser    : num  274 192 210 257 215 ...\n",
      " $ wmfg    : num  335 300 238 282 291 ...\n",
      " $ wfed    : num  478 410 359 412 377 ...\n",
      " $ wsta    : num  292 363 332 328 367 ...\n",
      " $ wloc    : num  312 301 281 299 343 ...\n",
      " $ mix     : num  0.0802 0.0302 0.4651 0.2736 0.0601 ...\n",
      " $ pctymle : num  0.0779 0.0826 0.0721 0.0735 0.0707 ...\n"
     ]
    }
   ],
   "source": [
    "str(crime_df)"
   ]
  },
  {
   "cell_type": "code",
   "execution_count": 177,
   "metadata": {},
   "outputs": [
    {
     "data": {
      "text/html": [
       "<table>\n",
       "<thead><tr><th></th><th scope=col>county</th><th scope=col>year</th><th scope=col>crmrte</th><th scope=col>prbarr</th><th scope=col>prbconv</th><th scope=col>prbpris</th><th scope=col>avgsen</th><th scope=col>polpc</th><th scope=col>density</th><th scope=col>taxpc</th><th scope=col>...</th><th scope=col>wtuc</th><th scope=col>wtrd</th><th scope=col>wfir</th><th scope=col>wser</th><th scope=col>wmfg</th><th scope=col>wfed</th><th scope=col>wsta</th><th scope=col>wloc</th><th scope=col>mix</th><th scope=col>pctymle</th></tr></thead>\n",
       "<tbody>\n",
       "\t<tr><th scope=row>33</th><td>71         </td><td>87         </td><td>0.0544061  </td><td>0.243119   </td><td>0.229589999</td><td>0.379175   </td><td>11.29      </td><td>0.00207028 </td><td>4.834734   </td><td>31.53658   </td><td>...        </td><td>595.3719   </td><td>240.3673   </td><td>348.0254   </td><td>295.2301   </td><td>358.95     </td><td>509.43     </td><td>359.11     </td><td>339.58     </td><td>0.1018608  </td><td>0.07939028 </td></tr>\n",
       "\t<tr><th scope=row>NA</th><td>NA         </td><td>NA         </td><td>       NA  </td><td>      NA   </td><td>NA         </td><td>      NA   </td><td>   NA      </td><td>        NA </td><td>      NA   </td><td>      NA   </td><td>...        </td><td>      NA   </td><td>      NA   </td><td>      NA   </td><td>      NA   </td><td>    NA     </td><td>    NA     </td><td>    NA     </td><td>    NA     </td><td>       NA  </td><td>        NA </td></tr>\n",
       "\t<tr><th scope=row>NA.1</th><td>NA         </td><td>NA         </td><td>       NA  </td><td>      NA   </td><td>NA         </td><td>      NA   </td><td>   NA      </td><td>        NA </td><td>      NA   </td><td>      NA   </td><td>...        </td><td>      NA   </td><td>      NA   </td><td>      NA   </td><td>      NA   </td><td>    NA     </td><td>    NA     </td><td>    NA     </td><td>    NA     </td><td>       NA  </td><td>        NA </td></tr>\n",
       "\t<tr><th scope=row>NA.2</th><td>NA         </td><td>NA         </td><td>       NA  </td><td>      NA   </td><td>NA         </td><td>      NA   </td><td>   NA      </td><td>        NA </td><td>      NA   </td><td>      NA   </td><td>...        </td><td>      NA   </td><td>      NA   </td><td>      NA   </td><td>      NA   </td><td>    NA     </td><td>    NA     </td><td>    NA     </td><td>    NA     </td><td>       NA  </td><td>        NA </td></tr>\n",
       "\t<tr><th scope=row>NA.3</th><td>NA         </td><td>NA         </td><td>       NA  </td><td>      NA   </td><td>NA         </td><td>      NA   </td><td>   NA      </td><td>        NA </td><td>      NA   </td><td>      NA   </td><td>...        </td><td>      NA   </td><td>      NA   </td><td>      NA   </td><td>      NA   </td><td>    NA     </td><td>    NA     </td><td>    NA     </td><td>    NA     </td><td>       NA  </td><td>        NA </td></tr>\n",
       "\t<tr><th scope=row>NA.4</th><td>NA         </td><td>NA         </td><td>       NA  </td><td>      NA   </td><td>NA         </td><td>      NA   </td><td>   NA      </td><td>        NA </td><td>      NA   </td><td>      NA   </td><td>...        </td><td>      NA   </td><td>      NA   </td><td>      NA   </td><td>      NA   </td><td>    NA     </td><td>    NA     </td><td>    NA     </td><td>    NA     </td><td>       NA  </td><td>        NA </td></tr>\n",
       "\t<tr><th scope=row>NA.5</th><td>NA         </td><td>NA         </td><td>       NA  </td><td>      NA   </td><td>NA         </td><td>      NA   </td><td>   NA      </td><td>        NA </td><td>      NA   </td><td>      NA   </td><td>...        </td><td>      NA   </td><td>      NA   </td><td>      NA   </td><td>      NA   </td><td>    NA     </td><td>    NA     </td><td>    NA     </td><td>    NA     </td><td>       NA  </td><td>        NA </td></tr>\n",
       "</tbody>\n",
       "</table>\n"
      ],
      "text/latex": [
       "\\begin{tabular}{r|lllllllllllllllllllllllll}\n",
       "  & county & year & crmrte & prbarr & prbconv & prbpris & avgsen & polpc & density & taxpc & ... & wtuc & wtrd & wfir & wser & wmfg & wfed & wsta & wloc & mix & pctymle\\\\\n",
       "\\hline\n",
       "\t33 & 71          & 87          & 0.0544061   & 0.243119    & 0.229589999 & 0.379175    & 11.29       & 0.00207028  & 4.834734    & 31.53658    & ...         & 595.3719    & 240.3673    & 348.0254    & 295.2301    & 358.95      & 509.43      & 359.11      & 339.58      & 0.1018608   & 0.07939028 \\\\\n",
       "\tNA & NA          & NA          &        NA   &       NA    & NA          &       NA    &    NA       &         NA  &       NA    &       NA    & ...         &       NA    &       NA    &       NA    &       NA    &     NA      &     NA      &     NA      &     NA      &        NA   &         NA \\\\\n",
       "\tNA.1 & NA          & NA          &        NA   &       NA    & NA          &       NA    &    NA       &         NA  &       NA    &       NA    & ...         &       NA    &       NA    &       NA    &       NA    &     NA      &     NA      &     NA      &     NA      &        NA   &         NA \\\\\n",
       "\tNA.2 & NA          & NA          &        NA   &       NA    & NA          &       NA    &    NA       &         NA  &       NA    &       NA    & ...         &       NA    &       NA    &       NA    &       NA    &     NA      &     NA      &     NA      &     NA      &        NA   &         NA \\\\\n",
       "\tNA.3 & NA          & NA          &        NA   &       NA    & NA          &       NA    &    NA       &         NA  &       NA    &       NA    & ...         &       NA    &       NA    &       NA    &       NA    &     NA      &     NA      &     NA      &     NA      &        NA   &         NA \\\\\n",
       "\tNA.4 & NA          & NA          &        NA   &       NA    & NA          &       NA    &    NA       &         NA  &       NA    &       NA    & ...         &       NA    &       NA    &       NA    &       NA    &     NA      &     NA      &     NA      &     NA      &        NA   &         NA \\\\\n",
       "\tNA.5 & NA          & NA          &        NA   &       NA    & NA          &       NA    &    NA       &         NA  &       NA    &       NA    & ...         &       NA    &       NA    &       NA    &       NA    &     NA      &     NA      &     NA      &     NA      &        NA   &         NA \\\\\n",
       "\\end{tabular}\n"
      ],
      "text/markdown": [
       "\n",
       "| <!--/--> | county | year | crmrte | prbarr | prbconv | prbpris | avgsen | polpc | density | taxpc | ... | wtuc | wtrd | wfir | wser | wmfg | wfed | wsta | wloc | mix | pctymle | \n",
       "|---|---|---|---|---|---|---|\n",
       "| 33 | 71          | 87          | 0.0544061   | 0.243119    | 0.229589999 | 0.379175    | 11.29       | 0.00207028  | 4.834734    | 31.53658    | ...         | 595.3719    | 240.3673    | 348.0254    | 295.2301    | 358.95      | 509.43      | 359.11      | 339.58      | 0.1018608   | 0.07939028  | \n",
       "| NA | NA          | NA          |        NA   |       NA    | NA          |       NA    |    NA       |         NA  |       NA    |       NA    | ...         |       NA    |       NA    |       NA    |       NA    |     NA      |     NA      |     NA      |     NA      |        NA   |         NA  | \n",
       "| NA.1 | NA          | NA          |        NA   |       NA    | NA          |       NA    |    NA       |         NA  |       NA    |       NA    | ...         |       NA    |       NA    |       NA    |       NA    |     NA      |     NA      |     NA      |     NA      |        NA   |         NA  | \n",
       "| NA.2 | NA          | NA          |        NA   |       NA    | NA          |       NA    |    NA       |         NA  |       NA    |       NA    | ...         |       NA    |       NA    |       NA    |       NA    |     NA      |     NA      |     NA      |     NA      |        NA   |         NA  | \n",
       "| NA.3 | NA          | NA          |        NA   |       NA    | NA          |       NA    |    NA       |         NA  |       NA    |       NA    | ...         |       NA    |       NA    |       NA    |       NA    |     NA      |     NA      |     NA      |     NA      |        NA   |         NA  | \n",
       "| NA.4 | NA          | NA          |        NA   |       NA    | NA          |       NA    |    NA       |         NA  |       NA    |       NA    | ...         |       NA    |       NA    |       NA    |       NA    |     NA      |     NA      |     NA      |     NA      |        NA   |         NA  | \n",
       "| NA.5 | NA          | NA          |        NA   |       NA    | NA          |       NA    |    NA       |         NA  |       NA    |       NA    | ...         |       NA    |       NA    |       NA    |       NA    |     NA      |     NA      |     NA      |     NA      |        NA   |         NA  | \n",
       "\n",
       "\n"
      ],
      "text/plain": [
       "     county year crmrte    prbarr   prbconv     prbpris  avgsen polpc     \n",
       "33   71     87   0.0544061 0.243119 0.229589999 0.379175 11.29  0.00207028\n",
       "NA   NA     NA          NA       NA NA                NA    NA          NA\n",
       "NA.1 NA     NA          NA       NA NA                NA    NA          NA\n",
       "NA.2 NA     NA          NA       NA NA                NA    NA          NA\n",
       "NA.3 NA     NA          NA       NA NA                NA    NA          NA\n",
       "NA.4 NA     NA          NA       NA NA                NA    NA          NA\n",
       "NA.5 NA     NA          NA       NA NA                NA    NA          NA\n",
       "     density  taxpc    ... wtuc     wtrd     wfir     wser     wmfg   wfed  \n",
       "33   4.834734 31.53658 ... 595.3719 240.3673 348.0254 295.2301 358.95 509.43\n",
       "NA         NA       NA ...       NA       NA       NA       NA     NA     NA\n",
       "NA.1       NA       NA ...       NA       NA       NA       NA     NA     NA\n",
       "NA.2       NA       NA ...       NA       NA       NA       NA     NA     NA\n",
       "NA.3       NA       NA ...       NA       NA       NA       NA     NA     NA\n",
       "NA.4       NA       NA ...       NA       NA       NA       NA     NA     NA\n",
       "NA.5       NA       NA ...       NA       NA       NA       NA     NA     NA\n",
       "     wsta   wloc   mix       pctymle   \n",
       "33   359.11 339.58 0.1018608 0.07939028\n",
       "NA       NA     NA        NA         NA\n",
       "NA.1     NA     NA        NA         NA\n",
       "NA.2     NA     NA        NA         NA\n",
       "NA.3     NA     NA        NA         NA\n",
       "NA.4     NA     NA        NA         NA\n",
       "NA.5     NA     NA        NA         NA"
      ]
     },
     "metadata": {},
     "output_type": "display_data"
    }
   ],
   "source": [
    "#see if there are rows where west and central is set to 1\n",
    "crime_df[crime_df$west+crime_df$central > 1,]"
   ]
  },
  {
   "cell_type": "code",
   "execution_count": 178,
   "metadata": {},
   "outputs": [
    {
     "data": {
      "text/html": [
       "<table>\n",
       "<thead><tr><th scope=col>county</th><th scope=col>year</th><th scope=col>crmrte</th><th scope=col>prbarr</th><th scope=col>prbconv</th><th scope=col>prbpris</th><th scope=col>avgsen</th><th scope=col>polpc</th><th scope=col>density</th><th scope=col>taxpc</th><th scope=col>...</th><th scope=col>wtuc</th><th scope=col>wtrd</th><th scope=col>wfir</th><th scope=col>wser</th><th scope=col>wmfg</th><th scope=col>wfed</th><th scope=col>wsta</th><th scope=col>wloc</th><th scope=col>mix</th><th scope=col>pctymle</th></tr></thead>\n",
       "<tbody>\n",
       "\t<tr><td> 1         </td><td>87         </td><td>0.0356036  </td><td>0.298270   </td><td>0.527595997</td><td>0.436170   </td><td> 6.71      </td><td>0.00182786 </td><td>2.4226327  </td><td>30.99368   </td><td>...        </td><td>408.7245   </td><td>221.2701   </td><td>453.1722   </td><td>274.1775   </td><td>334.54     </td><td>477.58     </td><td>292.09     </td><td>311.91     </td><td>0.08016878 </td><td>0.07787097 </td></tr>\n",
       "\t<tr><td> 3         </td><td>87         </td><td>0.0152532  </td><td>0.132029   </td><td>1.481480002</td><td>0.450000   </td><td> 6.35      </td><td>0.00074588 </td><td>1.0463320  </td><td>26.89208   </td><td>...        </td><td>376.2542   </td><td>196.0101   </td><td>258.5650   </td><td>192.3077   </td><td>300.38     </td><td>409.83     </td><td>362.96     </td><td>301.47     </td><td>0.03022670 </td><td>0.08260694 </td></tr>\n",
       "\t<tr><td> 5         </td><td>87         </td><td>0.0129603  </td><td>0.444444   </td><td>0.267856985</td><td>0.600000   </td><td> 6.76      </td><td>0.00123431 </td><td>0.4127659  </td><td>34.81605   </td><td>...        </td><td>372.2084   </td><td>229.3209   </td><td>305.9441   </td><td>209.6972   </td><td>237.65     </td><td>358.98     </td><td>331.53     </td><td>281.37     </td><td>0.46511629 </td><td>0.07211538 </td></tr>\n",
       "\t<tr><td> 7         </td><td>87         </td><td>0.0267532  </td><td>0.364760   </td><td>0.525424004</td><td>0.435484   </td><td> 7.14      </td><td>0.00152994 </td><td>0.4915572  </td><td>42.94759   </td><td>...        </td><td>397.6901   </td><td>191.1720   </td><td>281.0651   </td><td>256.7214   </td><td>281.80     </td><td>412.15     </td><td>328.27     </td><td>299.03     </td><td>0.27362204 </td><td>0.07353726 </td></tr>\n",
       "\t<tr><td> 9         </td><td>87         </td><td>0.0106232  </td><td>0.518219   </td><td>0.476563007</td><td>0.442623   </td><td> 8.22      </td><td>0.00086018 </td><td>0.5469484  </td><td>28.05474   </td><td>...        </td><td>377.3126   </td><td>206.8215   </td><td>289.3125   </td><td>215.1933   </td><td>290.89     </td><td>377.35     </td><td>367.23     </td><td>342.82     </td><td>0.06008584 </td><td>0.07069755 </td></tr>\n",
       "\t<tr><td>11         </td><td>87         </td><td>0.0146067  </td><td>0.524664   </td><td>0.068376102</td><td>0.500000   </td><td>13.00      </td><td>0.00288203 </td><td>0.6113361  </td><td>35.22974   </td><td>...        </td><td>401.3378   </td><td>187.8255   </td><td>258.5650   </td><td>237.1507   </td><td>258.60     </td><td>391.48     </td><td>325.71     </td><td>275.22     </td><td>0.31952664 </td><td>0.09891920 </td></tr>\n",
       "</tbody>\n",
       "</table>\n"
      ],
      "text/latex": [
       "\\begin{tabular}{r|lllllllllllllllllllllllll}\n",
       " county & year & crmrte & prbarr & prbconv & prbpris & avgsen & polpc & density & taxpc & ... & wtuc & wtrd & wfir & wser & wmfg & wfed & wsta & wloc & mix & pctymle\\\\\n",
       "\\hline\n",
       "\t  1          & 87          & 0.0356036   & 0.298270    & 0.527595997 & 0.436170    &  6.71       & 0.00182786  & 2.4226327   & 30.99368    & ...         & 408.7245    & 221.2701    & 453.1722    & 274.1775    & 334.54      & 477.58      & 292.09      & 311.91      & 0.08016878  & 0.07787097 \\\\\n",
       "\t  3          & 87          & 0.0152532   & 0.132029    & 1.481480002 & 0.450000    &  6.35       & 0.00074588  & 1.0463320   & 26.89208    & ...         & 376.2542    & 196.0101    & 258.5650    & 192.3077    & 300.38      & 409.83      & 362.96      & 301.47      & 0.03022670  & 0.08260694 \\\\\n",
       "\t  5          & 87          & 0.0129603   & 0.444444    & 0.267856985 & 0.600000    &  6.76       & 0.00123431  & 0.4127659   & 34.81605    & ...         & 372.2084    & 229.3209    & 305.9441    & 209.6972    & 237.65      & 358.98      & 331.53      & 281.37      & 0.46511629  & 0.07211538 \\\\\n",
       "\t  7          & 87          & 0.0267532   & 0.364760    & 0.525424004 & 0.435484    &  7.14       & 0.00152994  & 0.4915572   & 42.94759    & ...         & 397.6901    & 191.1720    & 281.0651    & 256.7214    & 281.80      & 412.15      & 328.27      & 299.03      & 0.27362204  & 0.07353726 \\\\\n",
       "\t  9          & 87          & 0.0106232   & 0.518219    & 0.476563007 & 0.442623    &  8.22       & 0.00086018  & 0.5469484   & 28.05474    & ...         & 377.3126    & 206.8215    & 289.3125    & 215.1933    & 290.89      & 377.35      & 367.23      & 342.82      & 0.06008584  & 0.07069755 \\\\\n",
       "\t 11          & 87          & 0.0146067   & 0.524664    & 0.068376102 & 0.500000    & 13.00       & 0.00288203  & 0.6113361   & 35.22974    & ...         & 401.3378    & 187.8255    & 258.5650    & 237.1507    & 258.60      & 391.48      & 325.71      & 275.22      & 0.31952664  & 0.09891920 \\\\\n",
       "\\end{tabular}\n"
      ],
      "text/markdown": [
       "\n",
       "county | year | crmrte | prbarr | prbconv | prbpris | avgsen | polpc | density | taxpc | ... | wtuc | wtrd | wfir | wser | wmfg | wfed | wsta | wloc | mix | pctymle | \n",
       "|---|---|---|---|---|---|\n",
       "|  1          | 87          | 0.0356036   | 0.298270    | 0.527595997 | 0.436170    |  6.71       | 0.00182786  | 2.4226327   | 30.99368    | ...         | 408.7245    | 221.2701    | 453.1722    | 274.1775    | 334.54      | 477.58      | 292.09      | 311.91      | 0.08016878  | 0.07787097  | \n",
       "|  3          | 87          | 0.0152532   | 0.132029    | 1.481480002 | 0.450000    |  6.35       | 0.00074588  | 1.0463320   | 26.89208    | ...         | 376.2542    | 196.0101    | 258.5650    | 192.3077    | 300.38      | 409.83      | 362.96      | 301.47      | 0.03022670  | 0.08260694  | \n",
       "|  5          | 87          | 0.0129603   | 0.444444    | 0.267856985 | 0.600000    |  6.76       | 0.00123431  | 0.4127659   | 34.81605    | ...         | 372.2084    | 229.3209    | 305.9441    | 209.6972    | 237.65      | 358.98      | 331.53      | 281.37      | 0.46511629  | 0.07211538  | \n",
       "|  7          | 87          | 0.0267532   | 0.364760    | 0.525424004 | 0.435484    |  7.14       | 0.00152994  | 0.4915572   | 42.94759    | ...         | 397.6901    | 191.1720    | 281.0651    | 256.7214    | 281.80      | 412.15      | 328.27      | 299.03      | 0.27362204  | 0.07353726  | \n",
       "|  9          | 87          | 0.0106232   | 0.518219    | 0.476563007 | 0.442623    |  8.22       | 0.00086018  | 0.5469484   | 28.05474    | ...         | 377.3126    | 206.8215    | 289.3125    | 215.1933    | 290.89      | 377.35      | 367.23      | 342.82      | 0.06008584  | 0.07069755  | \n",
       "| 11          | 87          | 0.0146067   | 0.524664    | 0.068376102 | 0.500000    | 13.00       | 0.00288203  | 0.6113361   | 35.22974    | ...         | 401.3378    | 187.8255    | 258.5650    | 237.1507    | 258.60      | 391.48      | 325.71      | 275.22      | 0.31952664  | 0.09891920  | \n",
       "\n",
       "\n"
      ],
      "text/plain": [
       "  county year crmrte    prbarr   prbconv     prbpris  avgsen polpc     \n",
       "1  1     87   0.0356036 0.298270 0.527595997 0.436170  6.71  0.00182786\n",
       "2  3     87   0.0152532 0.132029 1.481480002 0.450000  6.35  0.00074588\n",
       "3  5     87   0.0129603 0.444444 0.267856985 0.600000  6.76  0.00123431\n",
       "4  7     87   0.0267532 0.364760 0.525424004 0.435484  7.14  0.00152994\n",
       "5  9     87   0.0106232 0.518219 0.476563007 0.442623  8.22  0.00086018\n",
       "6 11     87   0.0146067 0.524664 0.068376102 0.500000 13.00  0.00288203\n",
       "  density   taxpc    ... wtuc     wtrd     wfir     wser     wmfg   wfed  \n",
       "1 2.4226327 30.99368 ... 408.7245 221.2701 453.1722 274.1775 334.54 477.58\n",
       "2 1.0463320 26.89208 ... 376.2542 196.0101 258.5650 192.3077 300.38 409.83\n",
       "3 0.4127659 34.81605 ... 372.2084 229.3209 305.9441 209.6972 237.65 358.98\n",
       "4 0.4915572 42.94759 ... 397.6901 191.1720 281.0651 256.7214 281.80 412.15\n",
       "5 0.5469484 28.05474 ... 377.3126 206.8215 289.3125 215.1933 290.89 377.35\n",
       "6 0.6113361 35.22974 ... 401.3378 187.8255 258.5650 237.1507 258.60 391.48\n",
       "  wsta   wloc   mix        pctymle   \n",
       "1 292.09 311.91 0.08016878 0.07787097\n",
       "2 362.96 301.47 0.03022670 0.08260694\n",
       "3 331.53 281.37 0.46511629 0.07211538\n",
       "4 328.27 299.03 0.27362204 0.07353726\n",
       "5 367.23 342.82 0.06008584 0.07069755\n",
       "6 325.71 275.22 0.31952664 0.09891920"
      ]
     },
     "metadata": {},
     "output_type": "display_data"
    }
   ],
   "source": [
    "head(crime_df)"
   ]
  },
  {
   "cell_type": "code",
   "execution_count": 179,
   "metadata": {},
   "outputs": [
    {
     "data": {
      "text/html": [
       "97"
      ],
      "text/latex": [
       "97"
      ],
      "text/markdown": [
       "97"
      ],
      "text/plain": [
       "[1] 97"
      ]
     },
     "metadata": {},
     "output_type": "display_data"
    }
   ],
   "source": [
    "length(crime_df$county)"
   ]
  },
  {
   "cell_type": "code",
   "execution_count": 180,
   "metadata": {},
   "outputs": [
    {
     "data": {
      "text/html": [
       "<table>\n",
       "<thead><tr><th></th><th scope=col>county</th><th scope=col>year</th><th scope=col>crmrte</th><th scope=col>prbarr</th><th scope=col>prbconv</th><th scope=col>prbpris</th><th scope=col>avgsen</th><th scope=col>polpc</th><th scope=col>density</th><th scope=col>taxpc</th><th scope=col>...</th><th scope=col>wtuc</th><th scope=col>wtrd</th><th scope=col>wfir</th><th scope=col>wser</th><th scope=col>wmfg</th><th scope=col>wfed</th><th scope=col>wsta</th><th scope=col>wloc</th><th scope=col>mix</th><th scope=col>pctymle</th></tr></thead>\n",
       "<tbody>\n",
       "\t<tr><th scope=row>92</th><td>NA </td><td>NA </td><td>NA </td><td>NA </td><td>   </td><td>NA </td><td>NA </td><td>NA </td><td>NA </td><td>NA </td><td>...</td><td>NA </td><td>NA </td><td>NA </td><td>NA </td><td>NA </td><td>NA </td><td>NA </td><td>NA </td><td>NA </td><td>NA </td></tr>\n",
       "\t<tr><th scope=row>93</th><td>NA </td><td>NA </td><td>NA </td><td>NA </td><td>   </td><td>NA </td><td>NA </td><td>NA </td><td>NA </td><td>NA </td><td>...</td><td>NA </td><td>NA </td><td>NA </td><td>NA </td><td>NA </td><td>NA </td><td>NA </td><td>NA </td><td>NA </td><td>NA </td></tr>\n",
       "\t<tr><th scope=row>94</th><td>NA </td><td>NA </td><td>NA </td><td>NA </td><td>   </td><td>NA </td><td>NA </td><td>NA </td><td>NA </td><td>NA </td><td>...</td><td>NA </td><td>NA </td><td>NA </td><td>NA </td><td>NA </td><td>NA </td><td>NA </td><td>NA </td><td>NA </td><td>NA </td></tr>\n",
       "\t<tr><th scope=row>95</th><td>NA </td><td>NA </td><td>NA </td><td>NA </td><td>   </td><td>NA </td><td>NA </td><td>NA </td><td>NA </td><td>NA </td><td>...</td><td>NA </td><td>NA </td><td>NA </td><td>NA </td><td>NA </td><td>NA </td><td>NA </td><td>NA </td><td>NA </td><td>NA </td></tr>\n",
       "\t<tr><th scope=row>96</th><td>NA </td><td>NA </td><td>NA </td><td>NA </td><td>   </td><td>NA </td><td>NA </td><td>NA </td><td>NA </td><td>NA </td><td>...</td><td>NA </td><td>NA </td><td>NA </td><td>NA </td><td>NA </td><td>NA </td><td>NA </td><td>NA </td><td>NA </td><td>NA </td></tr>\n",
       "\t<tr><th scope=row>97</th><td>NA </td><td>NA </td><td>NA </td><td>NA </td><td>`  </td><td>NA </td><td>NA </td><td>NA </td><td>NA </td><td>NA </td><td>...</td><td>NA </td><td>NA </td><td>NA </td><td>NA </td><td>NA </td><td>NA </td><td>NA </td><td>NA </td><td>NA </td><td>NA </td></tr>\n",
       "</tbody>\n",
       "</table>\n"
      ],
      "text/latex": [
       "\\begin{tabular}{r|lllllllllllllllllllllllll}\n",
       "  & county & year & crmrte & prbarr & prbconv & prbpris & avgsen & polpc & density & taxpc & ... & wtuc & wtrd & wfir & wser & wmfg & wfed & wsta & wloc & mix & pctymle\\\\\n",
       "\\hline\n",
       "\t92 & NA  & NA  & NA  & NA  &     & NA  & NA  & NA  & NA  & NA  & ... & NA  & NA  & NA  & NA  & NA  & NA  & NA  & NA  & NA  & NA \\\\\n",
       "\t93 & NA  & NA  & NA  & NA  &     & NA  & NA  & NA  & NA  & NA  & ... & NA  & NA  & NA  & NA  & NA  & NA  & NA  & NA  & NA  & NA \\\\\n",
       "\t94 & NA  & NA  & NA  & NA  &     & NA  & NA  & NA  & NA  & NA  & ... & NA  & NA  & NA  & NA  & NA  & NA  & NA  & NA  & NA  & NA \\\\\n",
       "\t95 & NA  & NA  & NA  & NA  &     & NA  & NA  & NA  & NA  & NA  & ... & NA  & NA  & NA  & NA  & NA  & NA  & NA  & NA  & NA  & NA \\\\\n",
       "\t96 & NA  & NA  & NA  & NA  &     & NA  & NA  & NA  & NA  & NA  & ... & NA  & NA  & NA  & NA  & NA  & NA  & NA  & NA  & NA  & NA \\\\\n",
       "\t97 & NA  & NA  & NA  & NA  & `   & NA  & NA  & NA  & NA  & NA  & ... & NA  & NA  & NA  & NA  & NA  & NA  & NA  & NA  & NA  & NA \\\\\n",
       "\\end{tabular}\n"
      ],
      "text/markdown": [
       "\n",
       "| <!--/--> | county | year | crmrte | prbarr | prbconv | prbpris | avgsen | polpc | density | taxpc | ... | wtuc | wtrd | wfir | wser | wmfg | wfed | wsta | wloc | mix | pctymle | \n",
       "|---|---|---|---|---|---|\n",
       "| 92 | NA  | NA  | NA  | NA  |     | NA  | NA  | NA  | NA  | NA  | ... | NA  | NA  | NA  | NA  | NA  | NA  | NA  | NA  | NA  | NA  | \n",
       "| 93 | NA  | NA  | NA  | NA  |     | NA  | NA  | NA  | NA  | NA  | ... | NA  | NA  | NA  | NA  | NA  | NA  | NA  | NA  | NA  | NA  | \n",
       "| 94 | NA  | NA  | NA  | NA  |     | NA  | NA  | NA  | NA  | NA  | ... | NA  | NA  | NA  | NA  | NA  | NA  | NA  | NA  | NA  | NA  | \n",
       "| 95 | NA  | NA  | NA  | NA  |     | NA  | NA  | NA  | NA  | NA  | ... | NA  | NA  | NA  | NA  | NA  | NA  | NA  | NA  | NA  | NA  | \n",
       "| 96 | NA  | NA  | NA  | NA  |     | NA  | NA  | NA  | NA  | NA  | ... | NA  | NA  | NA  | NA  | NA  | NA  | NA  | NA  | NA  | NA  | \n",
       "| 97 | NA  | NA  | NA  | NA  | `   | NA  | NA  | NA  | NA  | NA  | ... | NA  | NA  | NA  | NA  | NA  | NA  | NA  | NA  | NA  | NA  | \n",
       "\n",
       "\n"
      ],
      "text/plain": [
       "   county year crmrte prbarr prbconv prbpris avgsen polpc density taxpc ...\n",
       "92 NA     NA   NA     NA             NA      NA     NA    NA      NA    ...\n",
       "93 NA     NA   NA     NA             NA      NA     NA    NA      NA    ...\n",
       "94 NA     NA   NA     NA             NA      NA     NA    NA      NA    ...\n",
       "95 NA     NA   NA     NA             NA      NA     NA    NA      NA    ...\n",
       "96 NA     NA   NA     NA             NA      NA     NA    NA      NA    ...\n",
       "97 NA     NA   NA     NA     `       NA      NA     NA    NA      NA    ...\n",
       "   wtuc wtrd wfir wser wmfg wfed wsta wloc mix pctymle\n",
       "92 NA   NA   NA   NA   NA   NA   NA   NA   NA  NA     \n",
       "93 NA   NA   NA   NA   NA   NA   NA   NA   NA  NA     \n",
       "94 NA   NA   NA   NA   NA   NA   NA   NA   NA  NA     \n",
       "95 NA   NA   NA   NA   NA   NA   NA   NA   NA  NA     \n",
       "96 NA   NA   NA   NA   NA   NA   NA   NA   NA  NA     \n",
       "97 NA   NA   NA   NA   NA   NA   NA   NA   NA  NA     "
      ]
     },
     "metadata": {},
     "output_type": "display_data"
    }
   ],
   "source": [
    "tail(crime_df)"
   ]
  },
  {
   "cell_type": "markdown",
   "metadata": {},
   "source": [
    "**Findings:**\n",
    "* County numbers are odds.\n",
    "* there is one row where the county is both central and west.\n",
    "* There are 5 blank rows at the tail.\n",
    "* prbconv is reading as a factor/string, needs to be cleaned up."
   ]
  },
  {
   "cell_type": "markdown",
   "metadata": {},
   "source": [
    "# Data Clean Up"
   ]
  },
  {
   "cell_type": "code",
   "execution_count": 181,
   "metadata": {},
   "outputs": [],
   "source": [
    "#removing the last 5 rows that are blank\n",
    "crime_df = head(crime_df, -6)"
   ]
  },
  {
   "cell_type": "code",
   "execution_count": 182,
   "metadata": {},
   "outputs": [],
   "source": [
    "#change prbconv into doubles instead of string/factors\n",
    "crime_df$prbconv = as.double(as.character(crime_df$prbconv))"
   ]
  },
  {
   "cell_type": "code",
   "execution_count": 183,
   "metadata": {},
   "outputs": [
    {
     "data": {
      "text/plain": [
       "     county           year        crmrte             prbarr       \n",
       " Min.   :  1.0   Min.   :87   Min.   :0.005533   Min.   :0.09277  \n",
       " 1st Qu.: 52.0   1st Qu.:87   1st Qu.:0.020927   1st Qu.:0.20568  \n",
       " Median :105.0   Median :87   Median :0.029986   Median :0.27095  \n",
       " Mean   :101.6   Mean   :87   Mean   :0.033400   Mean   :0.29492  \n",
       " 3rd Qu.:152.0   3rd Qu.:87   3rd Qu.:0.039642   3rd Qu.:0.34438  \n",
       " Max.   :197.0   Max.   :87   Max.   :0.098966   Max.   :1.09091  \n",
       "    prbconv           prbpris           avgsen           polpc          \n",
       " Min.   :0.06838   Min.   :0.1500   Min.   : 5.380   Min.   :0.0007459  \n",
       " 1st Qu.:0.34541   1st Qu.:0.3648   1st Qu.: 7.340   1st Qu.:0.0012308  \n",
       " Median :0.45283   Median :0.4234   Median : 9.100   Median :0.0014853  \n",
       " Mean   :0.55128   Mean   :0.4108   Mean   : 9.647   Mean   :0.0017022  \n",
       " 3rd Qu.:0.58886   3rd Qu.:0.4568   3rd Qu.:11.420   3rd Qu.:0.0018768  \n",
       " Max.   :2.12121   Max.   :0.6000   Max.   :20.700   Max.   :0.0090543  \n",
       "    density            taxpc             west           central      \n",
       " Min.   :0.00002   Min.   : 25.69   Min.   :0.0000   Min.   :0.0000  \n",
       " 1st Qu.:0.54741   1st Qu.: 30.66   1st Qu.:0.0000   1st Qu.:0.0000  \n",
       " Median :0.96226   Median : 34.87   Median :0.0000   Median :0.0000  \n",
       " Mean   :1.42884   Mean   : 38.06   Mean   :0.2527   Mean   :0.3736  \n",
       " 3rd Qu.:1.56824   3rd Qu.: 40.95   3rd Qu.:0.5000   3rd Qu.:1.0000  \n",
       " Max.   :8.82765   Max.   :119.76   Max.   :1.0000   Max.   :1.0000  \n",
       "     urban            pctmin80           wcon            wtuc      \n",
       " Min.   :0.00000   Min.   : 1.284   Min.   :193.6   Min.   :187.6  \n",
       " 1st Qu.:0.00000   1st Qu.: 9.845   1st Qu.:250.8   1st Qu.:374.6  \n",
       " Median :0.00000   Median :24.312   Median :281.4   Median :406.5  \n",
       " Mean   :0.08791   Mean   :25.495   Mean   :285.4   Mean   :411.7  \n",
       " 3rd Qu.:0.00000   3rd Qu.:38.142   3rd Qu.:314.8   3rd Qu.:443.4  \n",
       " Max.   :1.00000   Max.   :64.348   Max.   :436.8   Max.   :613.2  \n",
       "      wtrd            wfir            wser             wmfg      \n",
       " Min.   :154.2   Min.   :170.9   Min.   : 133.0   Min.   :157.4  \n",
       " 1st Qu.:190.9   1st Qu.:286.5   1st Qu.: 229.7   1st Qu.:288.9  \n",
       " Median :203.0   Median :317.3   Median : 253.2   Median :320.2  \n",
       " Mean   :211.6   Mean   :322.1   Mean   : 275.6   Mean   :335.6  \n",
       " 3rd Qu.:225.1   3rd Qu.:345.4   3rd Qu.: 280.5   3rd Qu.:359.6  \n",
       " Max.   :354.7   Max.   :509.5   Max.   :2177.1   Max.   :646.9  \n",
       "      wfed            wsta            wloc            mix         \n",
       " Min.   :326.1   Min.   :258.3   Min.   :239.2   Min.   :0.01961  \n",
       " 1st Qu.:400.2   1st Qu.:329.3   1st Qu.:297.3   1st Qu.:0.08073  \n",
       " Median :449.8   Median :357.7   Median :308.1   Median :0.10186  \n",
       " Mean   :442.9   Mean   :357.5   Mean   :312.7   Mean   :0.12884  \n",
       " 3rd Qu.:478.0   3rd Qu.:382.6   3rd Qu.:329.2   3rd Qu.:0.15175  \n",
       " Max.   :598.0   Max.   :499.6   Max.   :388.1   Max.   :0.46512  \n",
       "    pctymle       \n",
       " Min.   :0.06216  \n",
       " 1st Qu.:0.07443  \n",
       " Median :0.07771  \n",
       " Mean   :0.08396  \n",
       " 3rd Qu.:0.08350  \n",
       " Max.   :0.24871  "
      ]
     },
     "metadata": {},
     "output_type": "display_data"
    }
   ],
   "source": [
    "summary(crime_df)"
   ]
  },
  {
   "cell_type": "markdown",
   "metadata": {},
   "source": [
    "# Exploratory Data Analysis"
   ]
  },
  {
   "cell_type": "markdown",
   "metadata": {},
   "source": [
    "**Question 1:** What do you want to measure? Make sure you identify variables that will be relevant to the concerns of the political campaign."
   ]
  },
  {
   "cell_type": "code",
   "execution_count": 184,
   "metadata": {},
   "outputs": [
    {
     "data": {},
     "metadata": {},
     "output_type": "display_data"
    },
    {
     "data": {
      "image/png": "[encoded data removed]",
      "text/plain": [
       "plot without title"
      ]
     },
     "metadata": {},
     "output_type": "display_data"
    }
   ],
   "source": [
    "options(repr.plot.width=6, repr.plot.height=5)\n",
    "#correlation matrix for top 4 correlation and bottom 4 correlation\n",
    "cor_dr = cor(crime_df[c('crmrte',\n",
    "                        'prbarr',\n",
    "                        'prbpris',\n",
    "                        'prbconv',\n",
    "                        'avgsen',\n",
    "                        'polpc',\n",
    "                        'density',\n",
    "                        'taxpc',\n",
    "                        'west',\n",
    "                        'central',\n",
    "                        'urban',\n",
    "                        'pctmin80',\n",
    "                        'wcon',\n",
    "                        'wtuc',\n",
    "                        'wtrd',\n",
    "                        'wfir',\n",
    "                        'wser',\n",
    "                        'wmfg',\n",
    "                        'wfed',\n",
    "                        'wsta',\n",
    "                        'wloc',\n",
    "                        'mix',\n",
    "                        'pctymle')],\n",
    "              use = \"complete.obs\")\n",
    "\n",
    "# Heatmap\n",
    "ggplot(data = melt(cor_dr, na.rm = TRUE),\n",
    "       aes(Var2, Var1, fill = value))+\n",
    "theme_minimal()+ \n",
    "geom_tile(color = 'white')+\n",
    "scale_fill_gradient2(low = 'blue',\n",
    "                     high = \"orange\",\n",
    "                     mid = 'white', \n",
    "                     midpoint = 0,\n",
    "                     limit = c(-1,1),\n",
    "                     name= 'Correlation')+\n",
    "theme(axis.text.x = element_text(face='bold',\n",
    "                                 angle=90,\n",
    "                                 vjust = 1,\n",
    "                                 size =8,\n",
    "                                 hjust = 1),\n",
    "     axis.text.y = element_text(face='bold',\n",
    "                                size=8),\n",
    "     axis.title.x=element_blank(),\n",
    "     axis.title.y=element_blank())"
   ]
  },
  {
   "cell_type": "markdown",
   "metadata": {},
   "source": [
    "**Findings:**\n",
    "* Crime rate (crmrte) seems to have the strongest correlation with density(+), prbarr(-), prbconv (-), taxpc(+), wages(+) - all wages except wser.\n",
    "* Density seems to be correlated with wages (+): wcon, wtuc, wtrd, wfir ,wser, wmfg, wfed, wloc. This just implies that there are higher wages in the more dense counties.\n",
    "* Probability of Arrest (prbarr) is correlated with polpc(+), mix, density.\n",
    "* Probability of Conviction (prbconv) is correlated with wser (+), mix(-).\n",
    "* Tax Revenue Per Capita is correlated to density (+).\n",
    "* crmrate is most likely the dependent variable that is of most interest as it for the political campaing. \n",
    "\n",
    "**Misc/Interesting Notes:**\n",
    "* Minorities seems to be the lowest in the west.\n",
    "\n",
    "**Potential Omitted Variables:**\n",
    "* Cost of living in the county - higher wages may be associated with higher cost of living.\n",
    "* Unemployment Rate."
   ]
  },
  {
   "cell_type": "code",
   "execution_count": 38,
   "metadata": {},
   "outputs": [
    {
     "data": {
      "text/html": [
       "0.426440921841905"
      ],
      "text/latex": [
       "0.426440921841905"
      ],
      "text/markdown": [
       "0.426440921841905"
      ],
      "text/plain": [
       "[1] 0.4264409"
      ]
     },
     "metadata": {},
     "output_type": "display_data"
    },
    {
     "data": {
      "image/png": "[encoded data removed]",
      "text/plain": [
       "plot without title"
      ]
     },
     "metadata": {},
     "output_type": "display_data"
    }
   ],
   "source": [
    "plot(crime_df$prbarr, crime_df$polpc)\n",
    "cor(crime_df$prbarr, crime_df$polpc)"
   ]
  },
  {
   "cell_type": "code",
   "execution_count": 15,
   "metadata": {},
   "outputs": [
    {
     "data": {
      "image/png": "[encoded data removed]",
      "text/plain": [
       "Plot with title \"Histogram of crime_df$prbarr\""
      ]
     },
     "metadata": {},
     "output_type": "display_data"
    }
   ],
   "source": [
    "hist(crime_df$prbarr)"
   ]
  },
  {
   "cell_type": "code",
   "execution_count": 16,
   "metadata": {},
   "outputs": [
    {
     "data": {
      "image/png": "[encoded data removed]",
      "text/plain": [
       "Plot with title \"Histogram of crime_df$prbconv\""
      ]
     },
     "metadata": {},
     "output_type": "display_data"
    }
   ],
   "source": [
    "hist(crime_df$prbconv)"
   ]
  },
  {
   "cell_type": "code",
   "execution_count": 185,
   "metadata": {},
   "outputs": [
    {
     "data": {
      "image/png": "[encoded data removed]",
      "text/plain": [
       "Plot with title \"Histogram of crime_df$taxpc\""
      ]
     },
     "metadata": {},
     "output_type": "display_data"
    }
   ],
   "source": [
    "hist(crime_df$taxpc)"
   ]
  },
  {
   "cell_type": "markdown",
   "metadata": {},
   "source": [
    "**Question 2:** What do you want to measure? Make sure you identify variables that will be relevant to the concerns of the political campaign."
   ]
  },
  {
   "cell_type": "markdown",
   "metadata": {},
   "source": [
    "# Regression"
   ]
  },
  {
   "cell_type": "code",
   "execution_count": 130,
   "metadata": {},
   "outputs": [
    {
     "data": {
      "text/plain": [
       "\n",
       "Call:\n",
       "lm(formula = crmrte ~ density + prbarr + prbpris + prbconv + \n",
       "    taxpc + wcon + wtuc + wtrd + wfir + wmfg + wfed + wsta + \n",
       "    wloc, data = crime_df)\n",
       "\n",
       "Coefficients:\n",
       "(Intercept)      density       prbarr      prbpris      prbconv        taxpc  \n",
       " -4.170e-04    5.799e-03   -3.069e-02    8.151e-03   -1.394e-02    3.485e-04  \n",
       "       wcon         wtuc         wtrd         wfir         wmfg         wfed  \n",
       " -1.107e-05   -9.403e-06   -2.947e-05   -3.989e-05    6.696e-07    6.692e-05  \n",
       "       wsta         wloc  \n",
       "  6.552e-07    6.932e-05  \n"
      ]
     },
     "metadata": {},
     "output_type": "display_data"
    },
    {
     "data": {
      "text/html": [
       "0.701311555320735"
      ],
      "text/latex": [
       "0.701311555320735"
      ],
      "text/markdown": [
       "0.701311555320735"
      ],
      "text/plain": [
       "[1] 0.7013116"
      ]
     },
     "metadata": {},
     "output_type": "display_data"
    }
   ],
   "source": [
    "model1 = lm(crmrte~density+prbarr+prbpris+prbconv+taxpc+wcon+wtuc+wtrd+wfir+wmfg+wfed+wsta+wloc, data=crime_df)\n",
    "model1\n",
    "\n",
    "summary(model1)$r.squared"
   ]
  },
  {
   "cell_type": "code",
   "execution_count": 186,
   "metadata": {},
   "outputs": [],
   "source": [
    "std_crime_df = cbind(crime_df)"
   ]
  },
  {
   "cell_type": "code",
   "execution_count": 187,
   "metadata": {},
   "outputs": [],
   "source": [
    "range01 <- function(x){(x-min(x))/(max(x)-min(x))}"
   ]
  },
  {
   "cell_type": "code",
   "execution_count": 188,
   "metadata": {},
   "outputs": [],
   "source": [
    "for (col in 3:ncol(std_crime_df)) {\n",
    "    std_crime_df[,col] = range01(std_crime_df[,col])\n",
    "}"
   ]
  },
  {
   "cell_type": "code",
   "execution_count": 196,
   "metadata": {},
   "outputs": [
    {
     "data": {
      "text/plain": [
       "\n",
       "Call:\n",
       "lm(formula = crmrte ~ . - county - year - crmrte, data = crime_df)\n",
       "\n",
       "Coefficients:\n",
       "(Intercept)       prbarr      prbconv      prbpris       avgsen        polpc  \n",
       "  1.369e-02   -5.150e-02   -1.863e-02    3.127e-03   -4.045e-04    6.966e+00  \n",
       "    density        taxpc         west      central        urban     pctmin80  \n",
       "  5.317e-03    1.624e-04   -2.550e-03   -4.257e-03   -6.068e-05    3.251e-04  \n",
       "       wcon         wtuc         wtrd         wfir         wser         wmfg  \n",
       "  2.274e-05    6.350e-06    2.938e-05   -3.543e-05   -1.718e-06   -9.109e-06  \n",
       "       wfed         wsta         wloc          mix      pctymle  \n",
       "  2.916e-05   -2.229e-05    1.492e-05   -1.867e-02    1.014e-01  \n"
      ]
     },
     "metadata": {},
     "output_type": "display_data"
    }
   ],
   "source": [
    "lm(crmrte~.-county-year-crmrte, data=crime_df)"
   ]
  },
  {
   "cell_type": "code",
   "execution_count": 200,
   "metadata": {},
   "outputs": [],
   "source": [
    "model2 <- lm(crmrte~.-county-year-crmrte, data=std_crime_df)"
   ]
  },
  {
   "cell_type": "code",
   "execution_count": 207,
   "metadata": {},
   "outputs": [
    {
     "data": {
      "image/png": "[encoded data removed]",
      "text/plain": [
       "plot without title"
      ]
     },
     "metadata": {},
     "output_type": "display_data"
    }
   ],
   "source": [
    "barplot(abs(model2$coefficients), xaxt=\"n\")"
   ]
  },
  {
   "cell_type": "code",
   "execution_count": null,
   "metadata": {},
   "outputs": [],
   "source": [
    "x <- barplot(table(mtcars$cyl), xaxt=\"n\")\n",
    "labs <- paste(names(table(mtcars$cyl)), \"cylinders\")\n",
    "text(cex=1, x=x-.25, y=-1.25, labs, xpd=TRUE, srt=45)"
   ]
  },
  {
   "cell_type": "code",
   "execution_count": null,
   "metadata": {},
   "outputs": [],
   "source": [
    "for (col in 3:ncol(std_crime_df)) {\n",
    "    std_crime_df[,col] = range01(std_crime_df[,col])\n",
    "}"
   ]
  },
  {
   "cell_type": "code",
   "execution_count": 221,
   "metadata": {},
   "outputs": [
    {
     "data": {
      "text/html": [
       "<ol class=list-inline>\n",
       "\t<li>'county'</li>\n",
       "\t<li>'year'</li>\n",
       "\t<li>'crmrte'</li>\n",
       "\t<li>'prbarr'</li>\n",
       "\t<li>'prbconv'</li>\n",
       "\t<li>'prbpris'</li>\n",
       "\t<li>'avgsen'</li>\n",
       "\t<li>'polpc'</li>\n",
       "\t<li>'density'</li>\n",
       "\t<li>'taxpc'</li>\n",
       "\t<li>'west'</li>\n",
       "\t<li>'central'</li>\n",
       "\t<li>'urban'</li>\n",
       "\t<li>'pctmin80'</li>\n",
       "\t<li>'wcon'</li>\n",
       "\t<li>'wtuc'</li>\n",
       "\t<li>'wtrd'</li>\n",
       "\t<li>'wfir'</li>\n",
       "\t<li>'wser'</li>\n",
       "\t<li>'wmfg'</li>\n",
       "\t<li>'wfed'</li>\n",
       "\t<li>'wsta'</li>\n",
       "\t<li>'wloc'</li>\n",
       "\t<li>'mix'</li>\n",
       "\t<li>'pctymle'</li>\n",
       "</ol>\n"
      ],
      "text/latex": [
       "\\begin{enumerate*}\n",
       "\\item 'county'\n",
       "\\item 'year'\n",
       "\\item 'crmrte'\n",
       "\\item 'prbarr'\n",
       "\\item 'prbconv'\n",
       "\\item 'prbpris'\n",
       "\\item 'avgsen'\n",
       "\\item 'polpc'\n",
       "\\item 'density'\n",
       "\\item 'taxpc'\n",
       "\\item 'west'\n",
       "\\item 'central'\n",
       "\\item 'urban'\n",
       "\\item 'pctmin80'\n",
       "\\item 'wcon'\n",
       "\\item 'wtuc'\n",
       "\\item 'wtrd'\n",
       "\\item 'wfir'\n",
       "\\item 'wser'\n",
       "\\item 'wmfg'\n",
       "\\item 'wfed'\n",
       "\\item 'wsta'\n",
       "\\item 'wloc'\n",
       "\\item 'mix'\n",
       "\\item 'pctymle'\n",
       "\\end{enumerate*}\n"
      ],
      "text/markdown": [
       "1. 'county'\n",
       "2. 'year'\n",
       "3. 'crmrte'\n",
       "4. 'prbarr'\n",
       "5. 'prbconv'\n",
       "6. 'prbpris'\n",
       "7. 'avgsen'\n",
       "8. 'polpc'\n",
       "9. 'density'\n",
       "10. 'taxpc'\n",
       "11. 'west'\n",
       "12. 'central'\n",
       "13. 'urban'\n",
       "14. 'pctmin80'\n",
       "15. 'wcon'\n",
       "16. 'wtuc'\n",
       "17. 'wtrd'\n",
       "18. 'wfir'\n",
       "19. 'wser'\n",
       "20. 'wmfg'\n",
       "21. 'wfed'\n",
       "22. 'wsta'\n",
       "23. 'wloc'\n",
       "24. 'mix'\n",
       "25. 'pctymle'\n",
       "\n",
       "\n"
      ],
      "text/plain": [
       " [1] \"county\"   \"year\"     \"crmrte\"   \"prbarr\"   \"prbconv\"  \"prbpris\" \n",
       " [7] \"avgsen\"   \"polpc\"    \"density\"  \"taxpc\"    \"west\"     \"central\" \n",
       "[13] \"urban\"    \"pctmin80\" \"wcon\"     \"wtuc\"     \"wtrd\"     \"wfir\"    \n",
       "[19] \"wser\"     \"wmfg\"     \"wfed\"     \"wsta\"     \"wloc\"     \"mix\"     \n",
       "[25] \"pctymle\" "
      ]
     },
     "metadata": {},
     "output_type": "display_data"
    }
   ],
   "source": [
    "test"
   ]
  },
  {
   "cell_type": "code",
   "execution_count": 322,
   "metadata": {},
   "outputs": [],
   "source": [
    "#base R-Squared\n",
    "base_model <- lm(crmrte~.-county-year-crmrte, data=std_crime_df)\n",
    "base_r2 <- summary(base_model)$r.squared\n",
    "\n",
    "#create list of variables for the for-loop\n",
    "var_names <- colnames(std_crime_df)\n",
    "remove <- c('county', 'year','crmrte')\n",
    "var_names <- var_names[! var_names %in% remove]\n",
    "\n",
    "#initiate an empty vector to store the marginal R-Squared\n",
    "var_r2_delta = c()\n",
    "\n",
    "#loop through the variable names and store the marginal R-Squared\n",
    "for (i in var_names) {\n",
    "    fmla <- as.formula(paste(\"crmrte ~ - crmrte +\", paste(var_names[! var_names %in% i], collapse= \"+\")))\n",
    "    delta_model <- lm(fmla, data=crime_df)\n",
    "    r2_delta <- base_r2-summary(delta_model)$r.squared\n",
    "    var_r2_delta <- c(var_r2_delta, r2_delta)\n",
    "}\n",
    "\n",
    "#put the variable and marginal R-squared in a dataframe\n",
    "mar_r2_df = data.frame(v1=var_names, v2=var_r2_delta)\n",
    "colnames(mar_r2_df) <- c('variable', 'marginalr2')\n",
    "\n",
    "#sort dataframe by marginal R-squared in a descending order\n",
    "mar_r2_df[rev(order(mar_r2_df$marginalr2)),]\n",
    "\n"
   ]
  },
  {
   "cell_type": "code",
   "execution_count": 328,
   "metadata": {},
   "outputs": [
    {
     "data": {
      "text/plain": [
       "\n",
       "Call:\n",
       "lm(formula = crmrte ~ . - crmrte - county - year, data = crime_df)\n",
       "\n",
       "Coefficients:\n",
       "(Intercept)       prbarr      prbconv      prbpris       avgsen        polpc  \n",
       "  1.369e-02   -5.150e-02   -1.863e-02    3.127e-03   -4.045e-04    6.966e+00  \n",
       "    density        taxpc         west      central        urban     pctmin80  \n",
       "  5.317e-03    1.624e-04   -2.550e-03   -4.257e-03   -6.068e-05    3.251e-04  \n",
       "       wcon         wtuc         wtrd         wfir         wser         wmfg  \n",
       "  2.274e-05    6.350e-06    2.938e-05   -3.543e-05   -1.718e-06   -9.109e-06  \n",
       "       wfed         wsta         wloc          mix      pctymle  \n",
       "  2.916e-05   -2.229e-05    1.492e-05   -1.867e-02    1.014e-01  \n"
      ]
     },
     "metadata": {},
     "output_type": "display_data"
    },
    {
     "data": {
      "text/html": [
       "0.85499854279189"
      ],
      "text/latex": [
       "0.85499854279189"
      ],
      "text/markdown": [
       "0.85499854279189"
      ],
      "text/plain": [
       "[1] 0.8549985"
      ]
     },
     "metadata": {},
     "output_type": "display_data"
    }
   ],
   "source": [
    "model1 = lm(crmrte~ .-crmrte-county-year, data=crime_df)\n",
    "model1\n",
    "\n",
    "summary(model1)$r.squared"
   ]
  },
  {
   "cell_type": "code",
   "execution_count": 332,
   "metadata": {},
   "outputs": [
    {
     "data": {
      "text/plain": [
       "\n",
       "Call:\n",
       "lm(formula = crmrte ~ . - crmrte - county - year - prbconv, data = crime_df)\n",
       "\n",
       "Coefficients:\n",
       "(Intercept)       prbarr      prbpris       avgsen        polpc      density  \n",
       " -1.843e-02   -3.739e-02    1.011e-03   -7.644e-04    4.392e+00    6.247e-03  \n",
       "      taxpc         west      central        urban     pctmin80         wcon  \n",
       "  3.205e-04   -1.428e-03   -3.212e-03   -7.269e-04    2.952e-04    1.836e-05  \n",
       "       wtuc         wtrd         wfir         wser         wmfg         wfed  \n",
       "  1.218e-05    5.682e-05   -6.550e-05   -1.520e-05   -9.181e-06    5.133e-05  \n",
       "       wsta         wloc          mix      pctymle  \n",
       "  9.800e-06    2.155e-06   -1.760e-04    1.729e-01  \n"
      ]
     },
     "metadata": {},
     "output_type": "display_data"
    },
    {
     "data": {
      "text/html": [
       "0.0528897822281025"
      ],
      "text/latex": [
       "0.0528897822281025"
      ],
      "text/markdown": [
       "0.0528897822281025"
      ],
      "text/plain": [
       "[1] 0.05288978"
      ]
     },
     "metadata": {},
     "output_type": "display_data"
    }
   ],
   "source": [
    "model1 = lm(crmrte~ .-crmrte-county-year-prbconv, data=crime_df)\n",
    "model1\n",
    "\n",
    "\n",
    "base_r2-summary(model1)$r.squared"
   ]
  },
  {
   "cell_type": "code",
   "execution_count": 341,
   "metadata": {},
   "outputs": [
    {
     "data": {
      "text/html": [
       "<table>\n",
       "<thead><tr><th></th><th scope=col>variable</th><th scope=col>marginalr2</th></tr></thead>\n",
       "<tbody>\n",
       "\t<tr><th scope=row>1</th><td>prbarr      </td><td>5.914240e-02</td></tr>\n",
       "\t<tr><th scope=row>2</th><td>prbconv     </td><td>5.288978e-02</td></tr>\n",
       "\t<tr><th scope=row>5</th><td>polpc       </td><td>4.424981e-02</td></tr>\n",
       "\t<tr><th scope=row>6</th><td>density     </td><td>3.365748e-02</td></tr>\n",
       "\t<tr><th scope=row>11</th><td>pctmin80    </td><td>2.669269e-02</td></tr>\n",
       "\t<tr><th scope=row>22</th><td>pctymle     </td><td>1.084116e-02</td></tr>\n",
       "\t<tr><th scope=row>7</th><td>taxpc       </td><td>6.213394e-03</td></tr>\n",
       "\t<tr><th scope=row>9</th><td>central     </td><td>5.115898e-03</td></tr>\n",
       "\t<tr><th scope=row>15</th><td>wfir        </td><td>3.686964e-03</td></tr>\n",
       "\t<tr><th scope=row>21</th><td>mix         </td><td>3.499656e-03</td></tr>\n",
       "\t<tr><th scope=row>18</th><td>wfed        </td><td>2.818294e-03</td></tr>\n",
       "\t<tr><th scope=row>4</th><td>avgsen      </td><td>2.103100e-03</td></tr>\n",
       "\t<tr><th scope=row>19</th><td>wsta        </td><td>1.596019e-03</td></tr>\n",
       "\t<tr><th scope=row>12</th><td>wcon        </td><td>1.471860e-03</td></tr>\n",
       "\t<tr><th scope=row>8</th><td>west        </td><td>9.623122e-04</td></tr>\n",
       "\t<tr><th scope=row>14</th><td>wtrd        </td><td>9.049072e-04</td></tr>\n",
       "\t<tr><th scope=row>17</th><td>wmfg        </td><td>8.955073e-04</td></tr>\n",
       "\t<tr><th scope=row>13</th><td>wtuc        </td><td>3.850979e-04</td></tr>\n",
       "\t<tr><th scope=row>20</th><td>wloc        </td><td>2.075921e-04</td></tr>\n",
       "\t<tr><th scope=row>16</th><td>wser        </td><td>1.980886e-04</td></tr>\n",
       "\t<tr><th scope=row>3</th><td>prbpris     </td><td>1.479749e-04</td></tr>\n",
       "\t<tr><th scope=row>10</th><td>urban       </td><td>2.117068e-07</td></tr>\n",
       "</tbody>\n",
       "</table>\n"
      ],
      "text/latex": [
       "\\begin{tabular}{r|ll}\n",
       "  & variable & marginalr2\\\\\n",
       "\\hline\n",
       "\t1 & prbarr       & 5.914240e-02\\\\\n",
       "\t2 & prbconv      & 5.288978e-02\\\\\n",
       "\t5 & polpc        & 4.424981e-02\\\\\n",
       "\t6 & density      & 3.365748e-02\\\\\n",
       "\t11 & pctmin80     & 2.669269e-02\\\\\n",
       "\t22 & pctymle      & 1.084116e-02\\\\\n",
       "\t7 & taxpc        & 6.213394e-03\\\\\n",
       "\t9 & central      & 5.115898e-03\\\\\n",
       "\t15 & wfir         & 3.686964e-03\\\\\n",
       "\t21 & mix          & 3.499656e-03\\\\\n",
       "\t18 & wfed         & 2.818294e-03\\\\\n",
       "\t4 & avgsen       & 2.103100e-03\\\\\n",
       "\t19 & wsta         & 1.596019e-03\\\\\n",
       "\t12 & wcon         & 1.471860e-03\\\\\n",
       "\t8 & west         & 9.623122e-04\\\\\n",
       "\t14 & wtrd         & 9.049072e-04\\\\\n",
       "\t17 & wmfg         & 8.955073e-04\\\\\n",
       "\t13 & wtuc         & 3.850979e-04\\\\\n",
       "\t20 & wloc         & 2.075921e-04\\\\\n",
       "\t16 & wser         & 1.980886e-04\\\\\n",
       "\t3 & prbpris      & 1.479749e-04\\\\\n",
       "\t10 & urban        & 2.117068e-07\\\\\n",
       "\\end{tabular}\n"
      ],
      "text/markdown": [
       "\n",
       "| <!--/--> | variable | marginalr2 | \n",
       "|---|---|---|---|---|---|---|---|---|---|---|---|---|---|---|---|---|---|---|---|---|---|\n",
       "| 1 | prbarr       | 5.914240e-02 | \n",
       "| 2 | prbconv      | 5.288978e-02 | \n",
       "| 5 | polpc        | 4.424981e-02 | \n",
       "| 6 | density      | 3.365748e-02 | \n",
       "| 11 | pctmin80     | 2.669269e-02 | \n",
       "| 22 | pctymle      | 1.084116e-02 | \n",
       "| 7 | taxpc        | 6.213394e-03 | \n",
       "| 9 | central      | 5.115898e-03 | \n",
       "| 15 | wfir         | 3.686964e-03 | \n",
       "| 21 | mix          | 3.499656e-03 | \n",
       "| 18 | wfed         | 2.818294e-03 | \n",
       "| 4 | avgsen       | 2.103100e-03 | \n",
       "| 19 | wsta         | 1.596019e-03 | \n",
       "| 12 | wcon         | 1.471860e-03 | \n",
       "| 8 | west         | 9.623122e-04 | \n",
       "| 14 | wtrd         | 9.049072e-04 | \n",
       "| 17 | wmfg         | 8.955073e-04 | \n",
       "| 13 | wtuc         | 3.850979e-04 | \n",
       "| 20 | wloc         | 2.075921e-04 | \n",
       "| 16 | wser         | 1.980886e-04 | \n",
       "| 3 | prbpris      | 1.479749e-04 | \n",
       "| 10 | urban        | 2.117068e-07 | \n",
       "\n",
       "\n"
      ],
      "text/plain": [
       "   variable marginalr2  \n",
       "1  prbarr   5.914240e-02\n",
       "2  prbconv  5.288978e-02\n",
       "5  polpc    4.424981e-02\n",
       "6  density  3.365748e-02\n",
       "11 pctmin80 2.669269e-02\n",
       "22 pctymle  1.084116e-02\n",
       "7  taxpc    6.213394e-03\n",
       "9  central  5.115898e-03\n",
       "15 wfir     3.686964e-03\n",
       "21 mix      3.499656e-03\n",
       "18 wfed     2.818294e-03\n",
       "4  avgsen   2.103100e-03\n",
       "19 wsta     1.596019e-03\n",
       "12 wcon     1.471860e-03\n",
       "8  west     9.623122e-04\n",
       "14 wtrd     9.049072e-04\n",
       "17 wmfg     8.955073e-04\n",
       "13 wtuc     3.850979e-04\n",
       "20 wloc     2.075921e-04\n",
       "16 wser     1.980886e-04\n",
       "3  prbpris  1.479749e-04\n",
       "10 urban    2.117068e-07"
      ]
     },
     "metadata": {},
     "output_type": "display_data"
    }
   ],
   "source": []
  },
  {
   "cell_type": "code",
   "execution_count": 339,
   "metadata": {},
   "outputs": [
    {
     "data": {
      "text/html": [
       "<table>\n",
       "<thead><tr><th scope=col>variable</th><th scope=col>marginalr2</th></tr></thead>\n",
       "<tbody>\n",
       "\t<tr><td>prbarr      </td><td>5.914240e-02</td></tr>\n",
       "\t<tr><td>prbconv     </td><td>5.288978e-02</td></tr>\n",
       "\t<tr><td>prbpris     </td><td>1.479749e-04</td></tr>\n",
       "\t<tr><td>avgsen      </td><td>2.103100e-03</td></tr>\n",
       "\t<tr><td>polpc       </td><td>4.424981e-02</td></tr>\n",
       "\t<tr><td>density     </td><td>3.365748e-02</td></tr>\n",
       "\t<tr><td>taxpc       </td><td>6.213394e-03</td></tr>\n",
       "\t<tr><td>west        </td><td>9.623122e-04</td></tr>\n",
       "\t<tr><td>central     </td><td>5.115898e-03</td></tr>\n",
       "\t<tr><td>urban       </td><td>2.117068e-07</td></tr>\n",
       "\t<tr><td>pctmin80    </td><td>2.669269e-02</td></tr>\n",
       "\t<tr><td>wcon        </td><td>1.471860e-03</td></tr>\n",
       "\t<tr><td>wtuc        </td><td>3.850979e-04</td></tr>\n",
       "\t<tr><td>wtrd        </td><td>9.049072e-04</td></tr>\n",
       "\t<tr><td>wfir        </td><td>3.686964e-03</td></tr>\n",
       "\t<tr><td>wser        </td><td>1.980886e-04</td></tr>\n",
       "\t<tr><td>wmfg        </td><td>8.955073e-04</td></tr>\n",
       "\t<tr><td>wfed        </td><td>2.818294e-03</td></tr>\n",
       "\t<tr><td>wsta        </td><td>1.596019e-03</td></tr>\n",
       "\t<tr><td>wloc        </td><td>2.075921e-04</td></tr>\n",
       "\t<tr><td>mix         </td><td>3.499656e-03</td></tr>\n",
       "\t<tr><td>pctymle     </td><td>1.084116e-02</td></tr>\n",
       "</tbody>\n",
       "</table>\n"
      ],
      "text/latex": [
       "\\begin{tabular}{r|ll}\n",
       " variable & marginalr2\\\\\n",
       "\\hline\n",
       "\t prbarr       & 5.914240e-02\\\\\n",
       "\t prbconv      & 5.288978e-02\\\\\n",
       "\t prbpris      & 1.479749e-04\\\\\n",
       "\t avgsen       & 2.103100e-03\\\\\n",
       "\t polpc        & 4.424981e-02\\\\\n",
       "\t density      & 3.365748e-02\\\\\n",
       "\t taxpc        & 6.213394e-03\\\\\n",
       "\t west         & 9.623122e-04\\\\\n",
       "\t central      & 5.115898e-03\\\\\n",
       "\t urban        & 2.117068e-07\\\\\n",
       "\t pctmin80     & 2.669269e-02\\\\\n",
       "\t wcon         & 1.471860e-03\\\\\n",
       "\t wtuc         & 3.850979e-04\\\\\n",
       "\t wtrd         & 9.049072e-04\\\\\n",
       "\t wfir         & 3.686964e-03\\\\\n",
       "\t wser         & 1.980886e-04\\\\\n",
       "\t wmfg         & 8.955073e-04\\\\\n",
       "\t wfed         & 2.818294e-03\\\\\n",
       "\t wsta         & 1.596019e-03\\\\\n",
       "\t wloc         & 2.075921e-04\\\\\n",
       "\t mix          & 3.499656e-03\\\\\n",
       "\t pctymle      & 1.084116e-02\\\\\n",
       "\\end{tabular}\n"
      ],
      "text/markdown": [
       "\n",
       "variable | marginalr2 | \n",
       "|---|---|---|---|---|---|---|---|---|---|---|---|---|---|---|---|---|---|---|---|---|---|\n",
       "| prbarr       | 5.914240e-02 | \n",
       "| prbconv      | 5.288978e-02 | \n",
       "| prbpris      | 1.479749e-04 | \n",
       "| avgsen       | 2.103100e-03 | \n",
       "| polpc        | 4.424981e-02 | \n",
       "| density      | 3.365748e-02 | \n",
       "| taxpc        | 6.213394e-03 | \n",
       "| west         | 9.623122e-04 | \n",
       "| central      | 5.115898e-03 | \n",
       "| urban        | 2.117068e-07 | \n",
       "| pctmin80     | 2.669269e-02 | \n",
       "| wcon         | 1.471860e-03 | \n",
       "| wtuc         | 3.850979e-04 | \n",
       "| wtrd         | 9.049072e-04 | \n",
       "| wfir         | 3.686964e-03 | \n",
       "| wser         | 1.980886e-04 | \n",
       "| wmfg         | 8.955073e-04 | \n",
       "| wfed         | 2.818294e-03 | \n",
       "| wsta         | 1.596019e-03 | \n",
       "| wloc         | 2.075921e-04 | \n",
       "| mix          | 3.499656e-03 | \n",
       "| pctymle      | 1.084116e-02 | \n",
       "\n",
       "\n"
      ],
      "text/plain": [
       "   variable marginalr2  \n",
       "1  prbarr   5.914240e-02\n",
       "2  prbconv  5.288978e-02\n",
       "3  prbpris  1.479749e-04\n",
       "4  avgsen   2.103100e-03\n",
       "5  polpc    4.424981e-02\n",
       "6  density  3.365748e-02\n",
       "7  taxpc    6.213394e-03\n",
       "8  west     9.623122e-04\n",
       "9  central  5.115898e-03\n",
       "10 urban    2.117068e-07\n",
       "11 pctmin80 2.669269e-02\n",
       "12 wcon     1.471860e-03\n",
       "13 wtuc     3.850979e-04\n",
       "14 wtrd     9.049072e-04\n",
       "15 wfir     3.686964e-03\n",
       "16 wser     1.980886e-04\n",
       "17 wmfg     8.955073e-04\n",
       "18 wfed     2.818294e-03\n",
       "19 wsta     1.596019e-03\n",
       "20 wloc     2.075921e-04\n",
       "21 mix      3.499656e-03\n",
       "22 pctymle  1.084116e-02"
      ]
     },
     "metadata": {},
     "output_type": "display_data"
    }
   ],
   "source": [
    "mar_r2_df"
   ]
  },
  {
   "cell_type": "code",
   "execution_count": null,
   "metadata": {},
   "outputs": [],
   "source": []
  }
 ],
 "metadata": {
  "kernelspec": {
   "display_name": "R",
   "language": "R",
   "name": "ir"
  },
  "language_info": {
   "codemirror_mode": "r",
   "file_extension": ".r",
   "mimetype": "text/x-r-source",
   "name": "R",
   "pygments_lexer": "r",
   "version": "3.4.3"
  }
 },
 "nbformat": 4,
 "nbformat_minor": 2
}
